{
 "cells": [
  {
   "cell_type": "markdown",
   "id": "28189f90",
   "metadata": {},
   "source": [
    "# **MARKDOWN PYTHON CODE**\n"
   ]
  },
  {
   "cell_type": "markdown",
   "id": "15316aa6",
   "metadata": {},
   "source": [
    "*Print Integers Between 1 to 10*"
   ]
  },
  {
   "cell_type": "code",
   "execution_count": 3,
   "id": "536ebe27",
   "metadata": {},
   "outputs": [
    {
     "name": "stdout",
     "output_type": "stream",
     "text": [
      "1\n",
      "2\n",
      "3\n",
      "4\n",
      "5\n",
      "6\n",
      "7\n",
      "8\n",
      "9\n",
      "10\n"
     ]
    }
   ],
   "source": [
    "for i in range(1, 11):\n",
    "    print(int(i))"
   ]
  }
 ],
 "metadata": {
  "kernelspec": {
   "display_name": "Python 3",
   "language": "python",
   "name": "python3"
  },
  "language_info": {
   "codemirror_mode": {
    "name": "ipython",
    "version": 3
   },
   "file_extension": ".py",
   "mimetype": "text/x-python",
   "name": "python",
   "nbconvert_exporter": "python",
   "pygments_lexer": "ipython3",
   "version": "3.8.8"
  }
 },
 "nbformat": 4,
 "nbformat_minor": 5
}
